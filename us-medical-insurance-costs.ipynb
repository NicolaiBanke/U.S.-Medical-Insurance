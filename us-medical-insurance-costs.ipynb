{
 "cells": [
  {
   "cell_type": "markdown",
   "metadata": {},
   "source": [
    "# U.S. Medical Insurance Costs"
   ]
  },
  {
   "cell_type": "markdown",
   "metadata": {},
   "source": [
    "## Initial thoughts about the data\n",
    "* We have complete data (no missing data points)\n",
    "* The columns age, bmi, children and charges are numerical - bmi can be mapped to categorical variable (obese, normal weight, etc.)\n",
    "* region, sex and smoker are strings with the latter two being binary\n",
    "* It would be interesting to see how charges vary between male - female and smoker - non-smoker\n",
    "* The dependence of the charges on number of children could also be interesting"
   ]
  },
  {
   "cell_type": "markdown",
   "metadata": {},
   "source": [
    "## Scope of the Project"
   ]
  },
  {
   "cell_type": "markdown",
   "metadata": {},
   "source": [
    "### Goals\n",
    "- Explore data separated along the binary variables sex and smoker: average charge, variance, dependence on numerical variables...\n",
    "- Explore dependence of charge on region\n",
    "- Investigate which, if any, combination of values of categorical variables impact insurance charge the most\n",
    "- Calculate covariance/correlation for numerical variables"
   ]
  },
  {
   "cell_type": "markdown",
   "metadata": {},
   "source": [
    "## Importing Data"
   ]
  },
  {
   "cell_type": "code",
   "execution_count": 141,
   "metadata": {},
   "outputs": [],
   "source": [
    "import csv\n",
    "import math\n",
    "\n",
    "data_list = []\n",
    "\n",
    "with open('insurance.csv') as data:\n",
    "    reader = csv.DictReader(data)\n",
    "    for row in reader:\n",
    "        data_dict = {}\n",
    "        for fieldname in reader.fieldnames:\n",
    "            data_dict[fieldname] = row[fieldname]\n",
    "        data_list.append(data_dict)"
   ]
  },
  {
   "cell_type": "markdown",
   "metadata": {},
   "source": [
    "## Analysis Functions"
   ]
  },
  {
   "cell_type": "markdown",
   "metadata": {},
   "source": [
    "### Data Handling Functions"
   ]
  },
  {
   "cell_type": "code",
   "execution_count": 142,
   "metadata": {},
   "outputs": [],
   "source": [
    "#hardcode the data categories and numericals\n",
    "data_categories = ['sex', 'smoker', 'region']\n",
    "data_numericals = ['age', 'bmi', 'children', 'charges']\n",
    "\n",
    "#function for picking columns in data - input is a number of strings representing picks\n",
    "def pick_data(data, *picks):\n",
    "    valid_picks = list(filter(lambda pick: pick in data[0].keys(), picks))\n",
    "    \n",
    "    return [{pick:datum[pick] for pick in valid_picks} for datum in data]\n",
    "\n",
    "#function to convert data to dict with keys being the headers and values being lists of data\n",
    "def pivot(data):\n",
    "    return {key:[datum[key] for datum in data] for key in data[0].keys()}\n",
    "\n",
    "#function for extracting the different category values in a list for a given category in data\n",
    "def category_values(data, category):\n",
    "    if category in data_categories:\n",
    "        return list(set([datum[category] for datum in data]))\n",
    "    else:\n",
    "        raise ValueError('invalid category')\n",
    "\n",
    "#filters data by a category\n",
    "def category_filter(data, category):\n",
    "    if category in data_categories:\n",
    "        return {category_value: list(filter(lambda datum: datum[category] == category_value, data)) for category_value in category_values(data, category)}\n",
    "    else:\n",
    "        raise ValueError('invalid category')\n",
    "\n",
    "#normalizes data\n",
    "def normalize(data):\n",
    "    if type(data) == list:\n",
    "        upper = float(max(data))\n",
    "        lower = float(min(data))\n",
    "        return [(float(datum) - lower)/(upper - lower) for datum in data]\n",
    "    else:\n",
    "        raise ValueError('data must be of type list')\n",
    "\n",
    "#normalizes rows of data\n",
    "def normalize_rows(data):\n",
    "    if type(data) == dict:\n",
    "        return {key: normalize(data[key]) for key in data.keys()}\n",
    "    else:\n",
    "        raise ValueError('data must be of type dict')\n",
    "\n",
    "#converts 'string' numbers to floats\n",
    "def convert_to_float(data):\n",
    "    for datum in data:\n",
    "        for key in datum.keys():\n",
    "            datum[key] = float(datum[key])\n",
    "\n",
    "def prepare_numerical(data):\n",
    "    picked_data = pick_data(data, *data_numericals)\n",
    "    convert_to_float(picked_data)\n",
    "    return pivot(picked_data)"
   ]
  },
  {
   "cell_type": "markdown",
   "metadata": {},
   "source": [
    "### Numerical Functions"
   ]
  },
  {
   "cell_type": "code",
   "execution_count": 143,
   "metadata": {},
   "outputs": [],
   "source": [
    "#finds median in data set\n",
    "def median(data):\n",
    "    if(type(data) == list and (type(data[0]) == float or type(data[0]) == int)):\n",
    "        data_copy = data[:]\n",
    "        data_copy.sort()\n",
    "        if(len(data_copy) % 2 == 0):\n",
    "            index = int((len(data_copy) - 1) / 2)\n",
    "            return mean([data_copy[index], data_copy[index+1]])\n",
    "        else:\n",
    "            index = int((len(data_copy) - 1) / 2)\n",
    "            return data_copy[index]\n",
    "    else:\n",
    "        raise ValueError('data must be a list of numbers')\n",
    "\n",
    "#calculates the mean value of numerical data with a given moment\n",
    "def mean(data, moment=1):\n",
    "    if(type(data) == list):\n",
    "        sum = 0\n",
    "        for datum in data:\n",
    "            sum += datum**moment\n",
    "        return sum/len(data)\n",
    "    else:\n",
    "        raise ValueError('data must be a list data type')\n",
    "\n",
    "#calculates covariance of two variables\n",
    "def cov(dataX, dataY):\n",
    "    if(type(dataX) == list and type(dataY) == list):\n",
    "        dataXYzip = zip(dataX, dataY)\n",
    "        dataXY = [datumX*datumY for datumX, datumY in dataXYzip]\n",
    "        return mean(dataXY) - mean(dataX)*mean(dataY)\n",
    "    else:\n",
    "        raise ValueError('data must be a list data type')\n",
    "\n",
    "#calculates the variance of a variable\n",
    "def var(data):\n",
    "    return cov(data, data)\n",
    "\n",
    "#calculates the standard deviation of a variable\n",
    "def std(data):\n",
    "    return var(data)**(1/2)\n",
    "\n",
    "#calculates the correlation of two variables\n",
    "def corr(dataX, dataY):\n",
    "    return cov(dataX, dataY)/(std(dataX)*std(dataY))"
   ]
  },
  {
   "cell_type": "markdown",
   "metadata": {},
   "source": [
    "### Aggregate Functions"
   ]
  },
  {
   "cell_type": "code",
   "execution_count": 144,
   "metadata": {},
   "outputs": [],
   "source": [
    "#calculates two-component quantities such as correlation between several variables\n",
    "def matrix(data, func):\n",
    "    if type(data) == dict:\n",
    "        return {key:{innerKey:func(data[key], data[innerKey]) for innerKey in data.keys()} for key in data.keys()}\n",
    "    else:\n",
    "        raise ValueError('data must be a dict')\n",
    "\n",
    "#calculates one-component quantities such as func = mean, median, variance...\n",
    "def vector(data, *funcs):\n",
    "    if type(data) == dict:\n",
    "        return {key: {func.__name__:func(data[key]) for func in funcs} for key in data.keys()}\n",
    "    else:\n",
    "        raise ValueError('data must be a dict')"
   ]
  },
  {
   "cell_type": "markdown",
   "metadata": {},
   "source": [
    "### Presentational Functions"
   ]
  },
  {
   "cell_type": "code",
   "execution_count": 145,
   "metadata": {},
   "outputs": [],
   "source": [
    "#finds length of longest string a matrix dict\n",
    "def longest_string_length(matrix, decimal_length):\n",
    "    rowKeys = list(matrix.keys())\n",
    "    columnKeys = list(matrix[rowKeys[0]].keys())\n",
    "    longest_len = 0\n",
    "    for element in rowKeys + columnKeys:\n",
    "        length = len(element)\n",
    "        if longest_len < length:\n",
    "            longest_len = length\n",
    "            \n",
    "    for rowKey in rowKeys:\n",
    "        for columnKey in columnKeys:\n",
    "            length = len(decimal_length%(matrix[rowKey][columnKey]))\n",
    "            if longest_len < length:\n",
    "                longest_len = length\n",
    "    \n",
    "    return longest_len\n",
    "\n",
    "#fits element within i a matrix row and column given a pad_ref\n",
    "def fit_element(element, pad_ref):\n",
    "    element_len = len(element) if len(element) % 2 == 0 else len(element) + 1\n",
    "    pad = int((pad_ref - element_len)/2) *' '\n",
    "    element_string = pad + element + pad + '|' if len(element) % 2 == 0 else pad + element + pad + ' |'\n",
    "    return element_string\n",
    "\n",
    "#prints matrix dict\n",
    "def print_matrix(matrix):\n",
    "    rowKeys = list(matrix.keys())\n",
    "    columnKeys = list(matrix[rowKeys[0]].keys())\n",
    "    decimal_length = '%0.4f'\n",
    "    longest_string = longest_string_length(matrix, decimal_length)\n",
    "    pad_ref = longest_string + 2 if longest_string % 2 == 0 else longest_string + 3\n",
    "    columnKeys_string = pad_ref*' ' + '|'\n",
    "    \n",
    "    for columnKey in columnKeys:\n",
    "        columnKeys_string += fit_element(columnKey, pad_ref)\n",
    "    print(columnKeys_string)\n",
    "    \n",
    "    for rowKey in rowKeys:\n",
    "        row = (pad_ref - len(rowKey) - 1)*' ' + rowKey + ' |'\n",
    "        for columnKey in columnKeys:\n",
    "            row += fit_element(decimal_length%(matrix[rowKey][columnKey]), pad_ref)\n",
    "        print(row)"
   ]
  },
  {
   "cell_type": "markdown",
   "metadata": {},
   "source": [
    "### Executive Functions"
   ]
  },
  {
   "cell_type": "code",
   "execution_count": 146,
   "metadata": {},
   "outputs": [],
   "source": [
    "#performs correlation analysis on data for category\n",
    "def do_corr_analysis(data, category=None):\n",
    "    if not category:\n",
    "        numerical = prepare_numerical(data)\n",
    "        print_matrix(matrix(numerical, corr))\n",
    "    else:\n",
    "        for category_value in category_values(data, category):\n",
    "            numerical = prepare_numerical(category_filter(data_list, category)[category_value])\n",
    "            \n",
    "            print(category + ': ' + category_value)\n",
    "            print_matrix(matrix(numerical, corr))\n",
    "            print('')\n",
    "\n",
    "#performs full correlation analysis on data\n",
    "def do_full_corr_analysis(data):\n",
    "    print('All categories')\n",
    "    do_corr_analysis(data)\n",
    "    print('')\n",
    "    for category in data_categories:\n",
    "        do_corr_analysis(data, category)\n",
    "        \n",
    "#performs numbers analysis on data for category\n",
    "def do_numbs_analysis(data, category=None):\n",
    "    if not category:\n",
    "        numerical = prepare_numerical(data)\n",
    "        print_matrix(vector(numerical, median, mean, std))\n",
    "    else:\n",
    "        for category_value in category_values(data, category):\n",
    "            numerical = prepare_numerical(category_filter(data_list, category)[category_value])\n",
    "            \n",
    "            print(category + ': ' + category_value)\n",
    "            print_matrix(vector(numerical, median, mean, std))\n",
    "            print('')\n",
    "\n",
    "#performs full v analysis on data\n",
    "def do_full_numbs_analysis(data):\n",
    "    print('All categories')\n",
    "    do_numbs_analysis(data)\n",
    "    print('')\n",
    "    for category in data_categories:\n",
    "        do_numbs_analysis(data, category)"
   ]
  },
  {
   "cell_type": "markdown",
   "metadata": {},
   "source": [
    "## Analysis"
   ]
  },
  {
   "cell_type": "markdown",
   "metadata": {},
   "source": [
    "### Correlations"
   ]
  },
  {
   "cell_type": "markdown",
   "metadata": {},
   "source": [
    "#### Correlations between numerical data for all categories"
   ]
  },
  {
   "cell_type": "markdown",
   "metadata": {},
   "source": [
    "Below are given the correlations between the numerical variables for various categories. We see that for women, charges are more strongly positively correlated than the general population with age than for men. For men the number of children and bmi are more strongly positively correlated than the general population, although the number of children in both cases are an order of magnitude smaller than other numerical variables. It is also not surprising to see that the number of children correlates more strongly and positively with age and bmi for women than the general population, but it is worth noting that for men, these same numbers are and order of magnitude lower, while still positive.\n",
    "\n",
    "A particularly strong positive correlation is found between bmi and charges for smokers. This is perhaps not surprising since being a smoker propably makes it more unhealthy to be fatter. Also for smokers, charges are more weakly positively correlated with age, which might reflect the fact that aging plays a smaller role than smoking with a smoker's health. Another not so surprising fact is that bmi is weakly positively correlated with age for smokers. Finally for smokers, there is a weak negative correlation between bmi and number of children. Perhaps fertility is more affected by bmi when one is a smoker.\n",
    "\n",
    "Lastly, a number of negative correlations are seen for the different regions. In two regions the number of children and age are weakly negatively correlated, while in the other two regions this number is positive and stronger than the general population. Perhaps some regions are better suited for larger families, so that when people have few children they stay for a longer time, and the people with many children stay put if they are younger, and therefore have fewer money for moving."
   ]
  },
  {
   "cell_type": "code",
   "execution_count": 147,
   "metadata": {},
   "outputs": [
    {
     "name": "stdout",
     "output_type": "stream",
     "text": [
      "All categories\n",
      "          |   age    |   bmi    | children | charges  |\n",
      "      age |  1.0000  |  0.1093  |  0.0425  |  0.2990  |\n",
      "      bmi |  0.1093  |  1.0000  |  0.0128  |  0.1983  |\n",
      " children |  0.0425  |  0.0128  |  1.0000  |  0.0680  |\n",
      "  charges |  0.2990  |  0.1983  |  0.0680  |  1.0000  |\n",
      "\n",
      "sex: female\n",
      "          |   age    |   bmi    | children | charges  |\n",
      "      age |  1.0000  |  0.0972  |  0.0785  |  0.3246  |\n",
      "      bmi |  0.0972  |  1.0000  |  0.0222  |  0.1614  |\n",
      " children |  0.0785  |  0.0222  |  1.0000  |  0.0585  |\n",
      "  charges |  0.3246  |  0.1614  |  0.0585  |  1.0000  |\n",
      "\n",
      "sex: male\n",
      "          |   age    |   bmi    | children | charges  |\n",
      "      age |  1.0000  |  0.1231  |  0.0087  |  0.2824  |\n",
      "      bmi |  0.1231  |  1.0000  |  0.0024  |  0.2258  |\n",
      " children |  0.0087  |  0.0024  |  1.0000  |  0.0745  |\n",
      "  charges |  0.2824  |  0.2258  |  0.0745  |  1.0000  |\n",
      "\n",
      "smoker: yes\n",
      "          |   age    |   bmi    | children | charges  |\n",
      "      age |  1.0000  |  0.0597  |  0.0812  |  0.3682  |\n",
      "      bmi |  0.0597  |  1.0000  | -0.0126  |  0.8065  |\n",
      " children |  0.0812  | -0.0126  |  1.0000  |  0.0359  |\n",
      "  charges |  0.3682  |  0.8065  |  0.0359  |  1.0000  |\n",
      "\n",
      "smoker: no\n",
      "          |   age    |   bmi    | children | charges  |\n",
      "      age |  1.0000  |  0.1226  |  0.0334  |  0.6279  |\n",
      "      bmi |  0.1226  |  1.0000  |  0.0192  |  0.0840  |\n",
      " children |  0.0334  |  0.0192  |  1.0000  |  0.1389  |\n",
      "  charges |  0.6279  |  0.0840  |  0.1389  |  1.0000  |\n",
      "\n",
      "region: northwest\n",
      "          |   age    |   bmi    | children | charges  |\n",
      "      age |  1.0000  |  0.1028  |  0.0638  |  0.3377  |\n",
      "      bmi |  0.1028  |  1.0000  |  0.0830  |  0.1811  |\n",
      " children |  0.0638  |  0.0830  |  1.0000  |  0.1604  |\n",
      "  charges |  0.3377  |  0.1811  |  0.1604  |  1.0000  |\n",
      "\n",
      "region: southeast\n",
      "          |   age    |   bmi    | children | charges  |\n",
      "      age |  1.0000  |  0.0197  |  0.1165  |  0.3106  |\n",
      "      bmi |  0.0197  |  1.0000  | -0.0345  |  0.1430  |\n",
      " children |  0.1165  | -0.0345  |  1.0000  |  0.0464  |\n",
      "  charges |  0.3106  |  0.1430  |  0.0464  |  1.0000  |\n",
      "\n",
      "region: northeast\n",
      "          |   age    |   bmi    | children | charges  |\n",
      "      age |  1.0000  |  0.1587  | -0.0075  |  0.3010  |\n",
      "      bmi |  0.1587  |  1.0000  | -0.0212  |  0.2317  |\n",
      " children | -0.0075  | -0.0212  |  1.0000  |  0.0679  |\n",
      "  charges |  0.3010  |  0.2317  |  0.0679  |  1.0000  |\n",
      "\n",
      "region: southwest\n",
      "          |   age    |   bmi    | children | charges  |\n",
      "      age |  1.0000  |  0.2124  | -0.0087  |  0.2584  |\n",
      "      bmi |  0.2124  |  1.0000  |  0.0658  |  0.2229  |\n",
      " children | -0.0087  |  0.0658  |  1.0000  |  0.0282  |\n",
      "  charges |  0.2584  |  0.2229  |  0.0282  |  1.0000  |\n",
      "\n"
     ]
    }
   ],
   "source": [
    "do_full_corr_analysis(data_list)"
   ]
  },
  {
   "cell_type": "markdown",
   "metadata": {},
   "source": [
    "### Numbers"
   ]
  },
  {
   "cell_type": "markdown",
   "metadata": {},
   "source": [
    "#### Statistical numbers of different categories"
   ]
  },
  {
   "cell_type": "markdown",
   "metadata": {},
   "source": [
    "Below are the various statistical numbers found for this data set. Note that, for discrete numbers like age and children, the median might be more valuable than the mean and the std is also less useful. For the two continuous variables, we can see an especially large std for charges which is comparable to the mean in many cases. It is worth noting that the mean charges differ greatly between smokers and non-smokers, while for the latter the standard deviation is around three times the size of the mean. Another point is that the mean charges is generally significantly larger than the median charges, implying that most people in the given group pay less than the others in that group. "
   ]
  },
  {
   "cell_type": "code",
   "execution_count": 148,
   "metadata": {},
   "outputs": [
    {
     "name": "stdout",
     "output_type": "stream",
     "text": [
      "All categories\n",
      "            |   median   |    mean    |    std     |\n",
      "        age |  39.0000   |  39.2070   |  14.0447   |\n",
      "        bmi |  30.4000   |  30.6634   |   6.0959   |\n",
      "   children |   1.0000   |   1.0949   |   1.2050   |\n",
      "    charges | 9382.0330  | 13270.4223 | 12105.4850 |\n",
      "\n",
      "sex: female\n",
      "            |   median   |    mean    |    std     |\n",
      "        age |  40.0000   |  39.5030   |  14.0436   |\n",
      "        bmi |  30.1075   |  30.3777   |   6.0415   |\n",
      "   children |   1.0000   |   1.0740   |   1.1912   |\n",
      "    charges | 9412.9625  | 12569.5788 | 11120.2953 |\n",
      "\n",
      "sex: male\n",
      "            |   median   |    mean    |    std     |\n",
      "        age |  39.0000   |  38.9172   |  14.0397   |\n",
      "        bmi |  30.6875   |  30.9431   |   6.1359   |\n",
      "   children |   1.0000   |   1.1154   |   1.2181   |\n",
      "    charges | 9369.6158  | 13956.7512 | 12961.4284 |\n",
      "\n",
      "smoker: yes\n",
      "            |   median   |    mean    |    std     |\n",
      "        age |  38.0000   |  38.5146   |  13.8978   |\n",
      "        bmi |  30.4475   |  30.7084   |   6.3071   |\n",
      "   children |   1.0000   |   1.1131   |   1.1550   |\n",
      "    charges | 34456.3485 | 32050.2318 | 11520.4667 |\n",
      "\n",
      "smoker: no\n",
      "            |   median   |    mean    |    std     |\n",
      "        age |  40.0000   |  39.3853   |  14.0768   |\n",
      "        bmi |  30.3525   |  30.6518   |   6.0403   |\n",
      "   children |   1.0000   |   1.0902   |   1.2176   |\n",
      "    charges | 7345.4053  | 8434.2683  | 5990.9645  |\n",
      "\n",
      "region: northwest\n",
      "            |   median   |    mean    |    std     |\n",
      "        age |  39.0000   |  39.1969   |  14.0300   |\n",
      "        bmi |  28.8800   |  29.1998   |   5.1289   |\n",
      "   children |   1.0000   |   1.1477   |   1.1700   |\n",
      "    charges | 8965.7957  | 12417.5754 | 11055.2295 |\n",
      "\n",
      "region: southeast\n",
      "            |   median   |    mean    |    std     |\n",
      "        age |  39.0000   |  38.9396   |  14.1451   |\n",
      "        bmi |  33.3300   |  33.3560   |   6.4687   |\n",
      "   children |   1.0000   |   1.0495   |   1.1757   |\n",
      "    charges | 9294.1319  | 14735.4114 | 13951.8943 |\n",
      "\n",
      "region: northeast\n",
      "            |   median   |    mean    |    std     |\n",
      "        age |  39.5000   |  39.2685   |  14.0473   |\n",
      "        bmi |  28.8800   |  29.1735   |   5.9283   |\n",
      "   children |   1.0000   |   1.0463   |   1.1971   |\n",
      "    charges | 10057.6520 | 13406.3845 | 11238.4196 |\n",
      "\n",
      "region: southwest\n",
      "            |   median   |    mean    |    std     |\n",
      "        age |  39.0000   |  39.4554   |  13.9384   |\n",
      "        bmi |  30.3000   |  30.5966   |   5.6831   |\n",
      "   children |   1.0000   |   1.1415   |   1.2740   |\n",
      "    charges | 8798.5930  | 12346.9374 | 11539.3851 |\n",
      "\n"
     ]
    }
   ],
   "source": [
    "do_full_numbs_analysis(data_list)"
   ]
  },
  {
   "cell_type": "code",
   "execution_count": null,
   "metadata": {},
   "outputs": [],
   "source": []
  }
 ],
 "metadata": {
  "kernelspec": {
   "display_name": "Python 3 (ipykernel)",
   "language": "python",
   "name": "python3"
  },
  "language_info": {
   "codemirror_mode": {
    "name": "ipython",
    "version": 3
   },
   "file_extension": ".py",
   "mimetype": "text/x-python",
   "name": "python",
   "nbconvert_exporter": "python",
   "pygments_lexer": "ipython3",
   "version": "3.7.13"
  }
 },
 "nbformat": 4,
 "nbformat_minor": 4
}
